{
 "cells": [
  {
   "cell_type": "code",
   "execution_count": 272,
   "id": "3e3e8863",
   "metadata": {},
   "outputs": [],
   "source": [
    "#import libraries\n",
    "#!pip install -U scikit-learn==0.16.1\n",
    "from scipy.io import arff\n",
    "import pandas as pd\n",
    "\n",
    "from sklearn.model_selection import train_test_split\n",
    "\n",
    "from sklearn.tree import DecisionTreeClassifier\n",
    "from sklearn.ensemble import BaggingClassifier\n",
    "from sklearn.preprocessing import MultiLabelBinarizer, LabelBinarizer \n",
    "from sklearn.metrics import accuracy_score"
   ]
  },
  {
   "cell_type": "code",
   "execution_count": 273,
   "id": "2641766c",
   "metadata": {},
   "outputs": [],
   "source": [
    "data = pd.read_csv(\"upwork-arff/vote.csv\")\n",
    "data = data.dropna()\n",
    "mlb = LabelBinarizer()\n",
    "mlb.fit(data[\"'Class'\"])\n",
    "data[\"'Class'\"] = mlb.transform(data[\"'Class'\"])"
   ]
  },
  {
   "cell_type": "code",
   "execution_count": 277,
   "id": "b25ad7e8",
   "metadata": {},
   "outputs": [
    {
     "data": {
      "text/plain": [
       "{0, 1}"
      ]
     },
     "execution_count": 277,
     "metadata": {},
     "output_type": "execute_result"
    }
   ],
   "source": [
    "set(data[\"'Class'\"])"
   ]
  },
  {
   "cell_type": "code",
   "execution_count": 276,
   "id": "35a9fdc3",
   "metadata": {},
   "outputs": [],
   "source": [
    "for (columnName, columnData) in data.iteritems():\n",
    "    if columnName != \"id\":\n",
    "        mlb = LabelBinarizer ()\n",
    "        data[columnName] = mlb.fit_transform(columnData)\n",
    "    \n",
    "    "
   ]
  },
  {
   "cell_type": "code",
   "execution_count": 129,
   "id": "c2d78626",
   "metadata": {},
   "outputs": [],
   "source": [
    "#ionosphere\"\n",
    "mlb = MultiLabelBinarizer ()\n",
    "data[\"class\"] = mlb.fit_transform(data[\"class\"])\n",
    "data = data.astype(float)\n",
    "data[\"class\"] = data[\"class\"].astype(int)"
   ]
  },
  {
   "cell_type": "code",
   "execution_count": 280,
   "id": "dbfa4051",
   "metadata": {},
   "outputs": [],
   "source": [
    "#ionosphere\"\n",
    "#train, test = train_test_split(data, test_size=0.25)\n",
    "\n",
    "# vote\n",
    "train = data.iloc[:-100]\n",
    "test = data.iloc[-100:]"
   ]
  },
  {
   "cell_type": "code",
   "execution_count": 281,
   "id": "2e1c6fe6",
   "metadata": {},
   "outputs": [
    {
     "data": {
      "text/plain": [
       "(435, 335, 100)"
      ]
     },
     "execution_count": 281,
     "metadata": {},
     "output_type": "execute_result"
    }
   ],
   "source": [
    "len(data), len(train), len(test)"
   ]
  },
  {
   "cell_type": "code",
   "execution_count": 285,
   "id": "c8b19aa9",
   "metadata": {},
   "outputs": [],
   "source": [
    "#ionosphere\"\n",
    "y_train = train[\"class\"]\n",
    "X_train = train.drop('class', axis=1)\n",
    "\n",
    "y_test = test[\"class\"]\n",
    "X_test = test.drop('class', axis=1)"
   ]
  },
  {
   "cell_type": "code",
   "execution_count": 286,
   "id": "80f631f1",
   "metadata": {},
   "outputs": [],
   "source": [
    "#vote\"\n",
    "y_train = train[\"'Class'\"]\n",
    "X_train = train.drop(\"'Class'\", axis=1)\n",
    "\n",
    "y_test = test[\"'Class'\"]\n",
    "X_test = test.drop(\"'Class'\", axis=1)"
   ]
  },
  {
   "cell_type": "code",
   "execution_count": 287,
   "id": "90408764",
   "metadata": {},
   "outputs": [
    {
     "data": {
      "text/plain": [
       "{0, 1}"
      ]
     },
     "execution_count": 287,
     "metadata": {},
     "output_type": "execute_result"
    }
   ],
   "source": [
    "set(y_test)"
   ]
  },
  {
   "cell_type": "code",
   "execution_count": 288,
   "id": "68450919",
   "metadata": {},
   "outputs": [
    {
     "name": "stdout",
     "output_type": "stream",
     "text": [
      "depth  1  tree  10  train  0.6238805970149254  test  0.62\n",
      "depth  1  tree  20  train  0.6208955223880597  test  0.59\n",
      "depth  1  tree  40  train  0.6208955223880597  test  0.59\n",
      "depth  1  tree  60  train  0.6208955223880597  test  0.59\n",
      "depth  1  tree  80  train  0.6208955223880597  test  0.59\n",
      "depth  1  tree  100  train  0.6208955223880597  test  0.59\n",
      "depth  2  tree  10  train  0.6268656716417911  test  0.59\n",
      "depth  2  tree  20  train  0.6298507462686567  test  0.61\n",
      "depth  2  tree  40  train  0.6298507462686567  test  0.59\n",
      "depth  2  tree  60  train  0.6388059701492538  test  0.59\n",
      "depth  2  tree  80  train  0.6358208955223881  test  0.59\n",
      "depth  2  tree  100  train  0.6298507462686567  test  0.59\n",
      "depth  3  tree  10  train  0.6746268656716418  test  0.59\n",
      "depth  3  tree  20  train  0.6477611940298508  test  0.61\n",
      "depth  3  tree  40  train  0.6835820895522388  test  0.61\n",
      "depth  3  tree  60  train  0.6955223880597015  test  0.59\n",
      "depth  3  tree  80  train  0.6746268656716418  test  0.6\n",
      "depth  3  tree  100  train  0.6746268656716418  test  0.61\n",
      "depth  4  tree  10  train  0.7223880597014926  test  0.59\n",
      "depth  4  tree  20  train  0.7373134328358208  test  0.59\n",
      "depth  4  tree  40  train  0.746268656716418  test  0.59\n",
      "depth  4  tree  60  train  0.6835820895522388  test  0.59\n",
      "depth  4  tree  80  train  0.7253731343283583  test  0.61\n",
      "depth  4  tree  100  train  0.7074626865671642  test  0.59\n",
      "depth  5  tree  10  train  0.7791044776119403  test  0.57\n",
      "depth  5  tree  20  train  0.7671641791044777  test  0.59\n",
      "depth  5  tree  40  train  0.8  test  0.59\n",
      "depth  5  tree  60  train  0.7731343283582089  test  0.61\n",
      "depth  5  tree  80  train  0.7731343283582089  test  0.59\n",
      "depth  5  tree  100  train  0.7761194029850746  test  0.59\n",
      "depth  10  tree  10  train  0.8835820895522388  test  0.57\n",
      "depth  10  tree  20  train  0.9283582089552239  test  0.61\n",
      "depth  10  tree  40  train  0.9223880597014925  test  0.59\n",
      "depth  10  tree  60  train  0.9552238805970149  test  0.61\n",
      "depth  10  tree  80  train  0.9492537313432836  test  0.59\n",
      "depth  10  tree  100  train  0.9582089552238806  test  0.6\n"
     ]
    }
   ],
   "source": [
    "depth = [1,2,3,4,5,10]\n",
    "tree = [10,20,40,60,80,100]\n",
    "for d in depth:\n",
    "    for t in tree:\n",
    "        bag_clf = BaggingClassifier( DecisionTreeClassifier(max_depth=d), n_estimators=t) \n",
    "        bag_clf.fit(X_train, y_train)\n",
    "        y_pred = bag_clf.predict(X_test)\n",
    "        y_trainpred = bag_clf.predict(X_train)\n",
    "\n",
    "        print(\"depth \", d, \" tree \", t, \" train \", accuracy_score(y_train,y_trainpred), \" test \",accuracy_score(y_test,y_pred))"
   ]
  },
  {
   "cell_type": "code",
   "execution_count": null,
   "id": "7d1c0e6c",
   "metadata": {},
   "outputs": [
    {
     "name": "stdout",
     "output_type": "stream",
     "text": [
      "c  0.0001  train  0.6208955223880597  test  0.59\n",
      "c  0.001  train  0.6208955223880597  test  0.59\n",
      "c  0.01  train  0.6208955223880597  test  0.59\n",
      "c  0.1  train  0.6208955223880597  test  0.59\n",
      "c  1  train  0.6328358208955224  test  0.62\n",
      "c  10  train  0.6328358208955224  test  0.62\n",
      "c  100  train  0.6328358208955224  test  0.62\n",
      "c  1000  train  0.6328358208955224  test  0.62\n"
     ]
    }
   ],
   "source": [
    "from sklearn.svm import SVC\n",
    "train_accuracy = []\n",
    "test_accuracy = []\n",
    "c_values = [0.0001, 0.001, 0.01, 0.1, 1, 10, 100, 1000, 10000]\n",
    "for c in c_values:\n",
    "    classifier = SVC(kernel='linear', C=c)\n",
    "\n",
    "    classifier.fit(X_train, y_train)\n",
    "    y_pred = classifier.predict(X_test)\n",
    "    y_trainpred = classifier.predict(X_train)\n",
    "\n",
    "    train_accuracy.append(accuracy_score(y_train,y_trainpred))\n",
    "    test_accuracy.append(accuracy_score(y_test,y_pred))\n",
    "    \n",
    "    print(\"c \",c, \" train \", accuracy_score(y_train,y_trainpred), \" test \",accuracy_score(y_test,y_pred))\n",
    "    \n",
    "plt.title('SVM: Varying C values - train')\n",
    "plt.plot(C_values, train_accuracy, label = 'Train Accuracy')\n",
    "plt.legend()\n",
    "plt.xlabel('C value')\n",
    "plt.ylabel('Accuracy')\n",
    "plt.show()\n",
    "\n",
    "plt.title('SVM: Varying C values - test')\n",
    "plt.plot(C_values, test_accuracy, label = 'Test Accuracy')\n",
    "plt.legend()\n",
    "plt.xlabel('C value')\n",
    "plt.ylabel('Accuracy')\n",
    "plt.show()"
   ]
  },
  {
   "cell_type": "code",
   "execution_count": 206,
   "id": "5df8587e",
   "metadata": {},
   "outputs": [
    {
     "name": "stdout",
     "output_type": "stream",
     "text": [
      "train  0.6577946768060836  test  0.5909090909090909\n",
      "train  0.6577946768060836  test  0.5909090909090909\n",
      "train  0.6577946768060836  test  0.5909090909090909\n",
      "train  0.6577946768060836  test  0.5909090909090909\n",
      "train  0.6577946768060836  test  0.5909090909090909\n",
      "train  0.6577946768060836  test  0.5909090909090909\n",
      "train  0.6958174904942965  test  0.6477272727272727\n",
      "train  0.7870722433460076  test  0.7159090909090909\n",
      "train  0.8098859315589354  test  0.7613636363636364\n"
     ]
    },
    {
     "data": {
      "image/png": "[encoded data removed]",
      "text/plain": [
       "<Figure size 432x288 with 1 Axes>"
      ]
     },
     "metadata": {
      "needs_background": "light"
     },
     "output_type": "display_data"
    },
    {
     "data": {
      "image/png": "[encoded data removed]",
      "text/plain": [
       "<Figure size 432x288 with 1 Axes>"
      ]
     },
     "metadata": {
      "needs_background": "light"
     },
     "output_type": "display_data"
    }
   ],
   "source": [
    "from sklearn.svm import SVC\n",
    "train_accuracy = []\n",
    "test_accuracy = []\n",
    "C_values = [0.0001, 0.001, 0.01, 0.1, 1, 10, 100, 1000, 10000]\n",
    "for c in C_values:\n",
    "    classifier = SVC(kernel='poly', degree=4, C=c)\n",
    "\n",
    "    classifier.fit(X_train, y_train)\n",
    "    y_pred = classifier.predict(X_test)\n",
    "    y_trainpred = classifier.predict(X_train)\n",
    "\n",
    "    train_accuracy.append(accuracy_score(y_train,y_trainpred))\n",
    "    test_accuracy.append(accuracy_score(y_test,y_pred))\n",
    "    print(\"train \", train_accuracy[-1], \" test \", test_accuracy[-1])\n",
    "   \n",
    "plt.title('SVM: Varying C values - train')\n",
    "plt.plot(C_values, train_accuracy, label = 'Train Accuracy')\n",
    "plt.legend()\n",
    "plt.xlabel('C value')\n",
    "plt.ylabel('Accuracy')\n",
    "plt.show()\n",
    "\n",
    "plt.title('SVM: Varying C values - test')\n",
    "plt.plot(C_values, test_accuracy, label = 'Test Accuracy')\n",
    "plt.legend()\n",
    "plt.xlabel('C value')\n",
    "plt.ylabel('Accuracy')\n",
    "plt.show()"
   ]
  },
  {
   "cell_type": "code",
   "execution_count": null,
   "id": "0cd0d058",
   "metadata": {},
   "outputs": [],
   "source": []
  }
 ],
 "metadata": {
  "kernelspec": {
   "display_name": "Python 3",
   "language": "python",
   "name": "python3"
  },
  "language_info": {
   "codemirror_mode": {
    "name": "ipython",
    "version": 3
   },
   "file_extension": ".py",
   "mimetype": "text/x-python",
   "name": "python",
   "nbconvert_exporter": "python",
   "pygments_lexer": "ipython3",
   "version": "3.8.8"
  }
 },
 "nbformat": 4,
 "nbformat_minor": 5
}
